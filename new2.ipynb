{
 "cells": [
  {
   "cell_type": "code",
   "execution_count": 1,
   "metadata": {},
   "outputs": [
    {
     "name": "stdout",
     "output_type": "stream",
     "text": [
      "Generic Animal is eating.\n",
      "Tom is eating.\n",
      "Meow!\n"
     ]
    }
   ],
   "source": [
    "# Define the parent class\n",
    "class Animal:\n",
    "    def __init__(self, name):\n",
    "        self.name = name\n",
    "\n",
    "    def eat(self):\n",
    "        print(f\"{self.name} is eating.\")\n",
    "\n",
    "# Define the child class\n",
    "class Cat(Animal):\n",
    "    def meow(self):\n",
    "        print(\"Meow!\")\n",
    "\n",
    "# Create instances of the classes\n",
    "animal = Animal(\"Generic Animal\")\n",
    "cat = Cat(\"Tom\")\n",
    "\n",
    "# Call the eat method on the instances\n",
    "animal.eat()  # Output: Generic Animal is eating.\n",
    "cat.eat()     # Output: Tom is eating.\n",
    "\n",
    "# Call the meow method on the cat instance\n",
    "cat.meow()    # Output: Meow!\n"
   ]
  }
 ],
 "metadata": {
  "kernelspec": {
   "display_name": "Python 3",
   "language": "python",
   "name": "python3"
  },
  "language_info": {
   "codemirror_mode": {
    "name": "ipython",
    "version": 3
   },
   "file_extension": ".py",
   "mimetype": "text/x-python",
   "name": "python",
   "nbconvert_exporter": "python",
   "pygments_lexer": "ipython3",
   "version": "3.9.0 (tags/v3.9.0:9cf6752, Oct  5 2020, 15:34:40) [MSC v.1927 64 bit (AMD64)]"
  },
  "orig_nbformat": 4,
  "vscode": {
   "interpreter": {
    "hash": "febad7ceecabac28cd6f9d2de5db8248fa0afb136e0d647c3a1a2e077a901a01"
   }
  }
 },
 "nbformat": 4,
 "nbformat_minor": 2
}
