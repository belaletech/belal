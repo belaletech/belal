{
 "cells": [
  {
   "cell_type": "code",
   "execution_count": 1,
   "metadata": {
    "tags": []
   },
   "outputs": [
    {
     "name": "stdout",
     "output_type": "stream",
     "text": [
      "ayan and belal both study in gu noida\n"
     ]
    }
   ],
   "source": [
    "print(\"ayan and belal both study in gu noida\")\n"
   ]
  },
  {
   "cell_type": "code",
   "execution_count": null,
   "metadata": {},
   "outputs": [],
   "source": [
    "# Define the parent class\n",
    "class Animal:\n",
    "    def __init__(self, name):\n",
    "        self.name = name\n",
    "\n",
    "    def eat(self):\n",
    "        print(f\"{self.name} is eating.\")\n",
    "\n",
    "# Define the child class\n",
    "class Cat(Animal):\n",
    "    def meow(self):\n",
    "        print(\"Meow!\")\n",
    "\n",
    "# Create instances of the classes\n",
    "animal = Animal(\"Generic Animal\")\n",
    "cat = Cat(\"Tom\")\n",
    "\n",
    "# Call the eat method on the instances\n",
    "animal.eat()  # Output: Generic Animal is eating.\n",
    "cat.eat()     # Output: Tom is eating.\n",
    "\n",
    "# Call the meow method on the cat instance\n",
    "cat.meow()    # Output: Meow!\n"
   ]
  },
  {
   "cell_type": "code",
   "execution_count": 1,
   "metadata": {},
   "outputs": [
    {
     "ename": "ValueError",
     "evalue": "invalid literal for int() with base 10: ''",
     "output_type": "error",
     "traceback": [
      "\u001b[0;31m---------------------------------------------------------------------------\u001b[0m",
      "\u001b[0;31mValueError\u001b[0m                                Traceback (most recent call last)",
      "Cell \u001b[0;32mIn[1], line 1\u001b[0m\n\u001b[0;32m----> 1\u001b[0m no1\u001b[39m=\u001b[39m\u001b[39mint\u001b[39;49m (\u001b[39minput\u001b[39;49m(\u001b[39m\"\u001b[39;49m\u001b[39mEnter First Number:\u001b[39;49m\u001b[39m\"\u001b[39;49m))\n\u001b[1;32m      2\u001b[0m no2\u001b[39m=\u001b[39m\u001b[39mint\u001b[39m (\u001b[39minput\u001b[39m(\u001b[39m\"\u001b[39m\u001b[39mEnter second Number:\u001b[39m\u001b[39m\"\u001b[39m))\n\u001b[1;32m      3\u001b[0m m\u001b[39m=\u001b[39m\u001b[39m1\u001b[39m\n",
      "\u001b[0;31mValueError\u001b[0m: invalid literal for int() with base 10: ''"
     ]
    }
   ],
   "source": [
    "no1=int (input(\"Enter First Number:\"))\n",
    "no2=int (input(\"Enter second Number:\"))\n",
    "m=1\n",
    "for i in range(1,no1+1):\n",
    "    if no1%i==0 and no2%i==0:\n",
    "        m=i\n",
    "        print(\"HCF of {} and {} is {}\".format(no1,no2,m))"
   ]
  }
 ],
 "metadata": {
  "kernelspec": {
   "display_name": "Python 3",
   "language": "python",
   "name": "python3"
  },
  "language_info": {
   "codemirror_mode": {
    "name": "ipython",
    "version": 3
   },
   "file_extension": ".py",
   "mimetype": "text/x-python",
   "name": "python",
   "nbconvert_exporter": "python",
   "pygments_lexer": "ipython3",
   "version": "3.9.0"
  },
  "orig_nbformat": 4,
  "vscode": {
   "interpreter": {
    "hash": "febad7ceecabac28cd6f9d2de5db8248fa0afb136e0d647c3a1a2e077a901a01"
   }
  }
 },
 "nbformat": 4,
 "nbformat_minor": 2
}
